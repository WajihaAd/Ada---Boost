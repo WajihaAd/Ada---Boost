{
 "cells": [
  {
   "cell_type": "code",
   "execution_count": 2,
   "id": "8d3765e1-c882-489c-bd79-853f4a2a8e84",
   "metadata": {},
   "outputs": [],
   "source": [
    "import pandas as pd\n",
    "import numpy as np\n",
    "import matplotlib.pyplot as plt\n",
    "%matplotlib inline\n",
    "import seaborn as sns\n",
    "import warnings\n",
    "warnings.filterwarnings(\"ignore\")"
   ]
  },
  {
   "cell_type": "markdown",
   "id": "652a2c43-de52-48cf-806f-a226cc2c3890",
   "metadata": {},
   "source": [
    "# AD BOOST Regressor"
   ]
  },
  {
   "cell_type": "code",
   "execution_count": 4,
   "id": "037c8e4a-6659-4b4c-8c32-ed5eeef41e9f",
   "metadata": {},
   "outputs": [],
   "source": [
    "from sklearn.ensemble import RandomForestRegressor, AdaBoostRegressor\n",
    "from sklearn.tree import DecisionTreeRegressor\n",
    "from sklearn.linear_model import LinearRegression, Ridge, Lasso\n",
    "from sklearn.neighbors import KNeighborsRegressor\n",
    "from sklearn.metrics import (\n",
    "    mean_absolute_error,\n",
    "    mean_squared_error,\n",
    "    r2_score,\n",
    "    median_absolute_error,\n",
    "    explained_variance_score,\n",
    "    mean_squared_log_error,\n",
    ")\n"
   ]
  },
  {
   "cell_type": "code",
   "execution_count": 5,
   "id": "ea26414f-8f9f-45f6-97b7-1d1e31976785",
   "metadata": {},
   "outputs": [],
   "source": [
    "def evaluate_model(y_true, y_pred):\n",
    "    # Calculate metrics\n",
    "    mae = mean_absolute_error(y_true, y_pred)\n",
    "    mse = mean_squared_error(y_true, y_pred)\n",
    "    r2 = r2_score(y_true, y_pred)\n",
    "    medae = median_absolute_error(y_true, y_pred)\n",
    "    evs = explained_variance_score(y_true, y_pred)\n",
    "    msle = mean_squared_log_error(y_true, y_pred)\n",
    "\n",
    "    # Create a dictionary to hold the results\n",
    "    metrics = {\n",
    "        'Mean Absolute Error': mae,\n",
    "        'Mean Squared Error': mse,\n",
    "        'R² Score': r2,\n",
    "        'Median Absolute Error': medae,\n",
    "        'Explained Variance Score': evs,\n",
    "        'Mean Squared Log Error': msle,\n",
    "    }\n",
    "    \n",
    "    return metrics\n"
   ]
  },
  {
   "cell_type": "code",
   "execution_count": null,
   "id": "85160588-65ba-42f3-bd46-e69de38d86e2",
   "metadata": {},
   "outputs": [],
   "source": [
    "models = {\n",
    "    \"Linear Regression\": LinearRegression(),\n",
    "    \"Ridge Regression\": Ridge(),\n",
    "    \"Lasso Regression\": Lasso(),\n",
    "    \"Decision Tree\": DecisionTreeRegressor(),\n",
    "    \"Random Forest\": RandomForestRegressor(),\n",
    "    \"AdaBoost\": AdaBoostRegressor(),\n",
    "    \"KNN\": KNeighborsRegressor()\n",
    "}\n",
    "\n",
    "for i in range(len(list(models))):\n",
    "    model = list(models.values())[i]\n",
    "    model.fit(x_train, y_train)\n",
    "    \n",
    "    # Make Predictions\n",
    "    y_train_pred = model.predict(x_train)\n",
    "    y_test_pred = model.predict(x_test)\n",
    "\n",
    "    # Training set Performance\n",
    "    model_train_mse = mean_squared_error(y_train, y_train_pred)\n",
    "    model_train_r2 = r2_score(y_train, y_train_pred)\n",
    "    model_train_mae = mean_absolute_error(y_train, y_train_pred)\n",
    "\n",
    "    # Calculate metrics for the test set\n",
    "    model_test_mse = mean_squared_error(y_test, y_test_pred)\n",
    "    model_test_r2 = r2_score(y_test, y_test_pred)\n",
    "    model_test_mae = mean_absolute_error(y_test, y_test_pred)\n",
    "\n",
    "    # Print results\n",
    "    print(list(models.keys())[i])\n",
    "    print(\"-----------Metrics for Train Data------------\") \n",
    "    print(f\"Training Set MSE: {model_train_mse:.4f}\")\n",
    "    print(f\"Training Set R²: {model_train_r2:.4f}\")\n",
    "    print(f\"Training Set MAE: {model_train_mae:.4f}\")\n",
    "    print(\"-----------Metrics for Test Data------------\") \n",
    "    print(f\"Test Set MSE: {model_test_mse:.4f}\")\n",
    "    print(f\"Test Set R²: {model_test_r2:.4f}\")\n",
    "    print(f\"Test Set MAE: {model_test_mae:.4f}\")\n",
    "    print()\n",
    "    print('=' * 35)\n",
    "    print('\\n')"
   ]
  },
  {
   "cell_type": "markdown",
   "id": "9182092c-9f8d-4e62-9260-bd6cb1b25d2f",
   "metadata": {},
   "source": [
    "same as classifer"
   ]
  },
  {
   "cell_type": "code",
   "execution_count": null,
   "id": "9329a117-d1fb-491f-b4ef-2788f258872e",
   "metadata": {},
   "outputs": [],
   "source": []
  }
 ],
 "metadata": {
  "kernelspec": {
   "display_name": "Python 3 (ipykernel)",
   "language": "python",
   "name": "python3"
  },
  "language_info": {
   "codemirror_mode": {
    "name": "ipython",
    "version": 3
   },
   "file_extension": ".py",
   "mimetype": "text/x-python",
   "name": "python",
   "nbconvert_exporter": "python",
   "pygments_lexer": "ipython3",
   "version": "3.12.4"
  }
 },
 "nbformat": 4,
 "nbformat_minor": 5
}
